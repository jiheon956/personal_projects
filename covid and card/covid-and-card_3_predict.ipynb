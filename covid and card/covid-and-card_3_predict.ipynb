{
 "cells": [
  {
   "cell_type": "markdown",
   "metadata": {},
   "source": [
    "# 코로나 확진자 추세에 따른 카드매출발생금액 예측\n",
    "(3) 예측 모델링"
   ]
  },
  {
   "cell_type": "markdown",
   "metadata": {},
   "source": [
    "## Preprocessings"
   ]
  },
  {
   "cell_type": "code",
   "execution_count": 1,
   "metadata": {},
   "outputs": [],
   "source": [
    "# import required packages\n",
    "import os\n",
    "import numpy as np\n",
    "import pandas as pd\n",
    "from sklearn.preprocessing import Normalizer\n",
    "from sklearn.model_selection import train_test_split\n",
    "from sklearn.linear_model import LinearRegression\n",
    "from sklearn.svm import SVC\n",
    "from sklearn.tree import DecisionTreeRegressor\n",
    "from sklearn.ensemble import RandomForestRegressor\n",
    "import matplotlib.pyplot as plt\n",
    "import seaborn as sns\n",
    "import datetime\n",
    "plt.rc('font', family='AppleGothic')"
   ]
  },
  {
   "cell_type": "code",
   "execution_count": 2,
   "metadata": {},
   "outputs": [],
   "source": [
    "# directory\n",
    "current_path = os.getcwd()\n",
    "output_DIR = os.path.join(current_path, 'output')\n",
    "\n",
    "\n",
    "# data path\n",
    "pinfo_path = os.path.join(output_DIR, 'pinfo_df.csv')\n",
    "card_path = os.path.join(output_DIR, 'card_df.csv')\n",
    "\n",
    "\n",
    "# load data\n",
    "pinfo_df = pd.read_csv(pinfo_path)\n",
    "card_df = pd.read_csv(card_path)"
   ]
  },
  {
   "cell_type": "code",
   "execution_count": 3,
   "metadata": {},
   "outputs": [
    {
     "data": {
      "text/html": [
       "<div>\n",
       "<style scoped>\n",
       "    .dataframe tbody tr th:only-of-type {\n",
       "        vertical-align: middle;\n",
       "    }\n",
       "\n",
       "    .dataframe tbody tr th {\n",
       "        vertical-align: top;\n",
       "    }\n",
       "\n",
       "    .dataframe thead th {\n",
       "        text-align: right;\n",
       "    }\n",
       "</style>\n",
       "<table border=\"1\" class=\"dataframe\">\n",
       "  <thead>\n",
       "    <tr style=\"text-align: right;\">\n",
       "      <th></th>\n",
       "      <th>patient_id</th>\n",
       "      <th>age</th>\n",
       "      <th>male</th>\n",
       "      <th>city_nm</th>\n",
       "      <th>infection_case</th>\n",
       "      <th>confirmed_date</th>\n",
       "      <th>state</th>\n",
       "      <th>confirmed</th>\n",
       "    </tr>\n",
       "  </thead>\n",
       "  <tbody>\n",
       "    <tr>\n",
       "      <th>0</th>\n",
       "      <td>1000000001</td>\n",
       "      <td>50s</td>\n",
       "      <td>1.0</td>\n",
       "      <td>강서구</td>\n",
       "      <td>overseas inflow</td>\n",
       "      <td>2020-01-23</td>\n",
       "      <td>released</td>\n",
       "      <td>1</td>\n",
       "    </tr>\n",
       "    <tr>\n",
       "      <th>1</th>\n",
       "      <td>1000000002</td>\n",
       "      <td>30s</td>\n",
       "      <td>1.0</td>\n",
       "      <td>중랑구</td>\n",
       "      <td>overseas inflow</td>\n",
       "      <td>2020-01-30</td>\n",
       "      <td>released</td>\n",
       "      <td>1</td>\n",
       "    </tr>\n",
       "    <tr>\n",
       "      <th>2</th>\n",
       "      <td>1000000003</td>\n",
       "      <td>50s</td>\n",
       "      <td>1.0</td>\n",
       "      <td>종로구</td>\n",
       "      <td>contact with patient</td>\n",
       "      <td>2020-01-30</td>\n",
       "      <td>released</td>\n",
       "      <td>1</td>\n",
       "    </tr>\n",
       "    <tr>\n",
       "      <th>3</th>\n",
       "      <td>1000000004</td>\n",
       "      <td>20s</td>\n",
       "      <td>1.0</td>\n",
       "      <td>마포구</td>\n",
       "      <td>overseas inflow</td>\n",
       "      <td>2020-01-30</td>\n",
       "      <td>released</td>\n",
       "      <td>1</td>\n",
       "    </tr>\n",
       "    <tr>\n",
       "      <th>4</th>\n",
       "      <td>1000000005</td>\n",
       "      <td>20s</td>\n",
       "      <td>0.0</td>\n",
       "      <td>성북구</td>\n",
       "      <td>contact with patient</td>\n",
       "      <td>2020-01-31</td>\n",
       "      <td>released</td>\n",
       "      <td>1</td>\n",
       "    </tr>\n",
       "  </tbody>\n",
       "</table>\n",
       "</div>"
      ],
      "text/plain": [
       "   patient_id  age  male city_nm        infection_case confirmed_date  \\\n",
       "0  1000000001  50s   1.0     강서구       overseas inflow     2020-01-23   \n",
       "1  1000000002  30s   1.0     중랑구       overseas inflow     2020-01-30   \n",
       "2  1000000003  50s   1.0     종로구  contact with patient     2020-01-30   \n",
       "3  1000000004  20s   1.0     마포구       overseas inflow     2020-01-30   \n",
       "4  1000000005  20s   0.0     성북구  contact with patient     2020-01-31   \n",
       "\n",
       "      state  confirmed  \n",
       "0  released          1  \n",
       "1  released          1  \n",
       "2  released          1  \n",
       "3  released          1  \n",
       "4  released          1  "
      ]
     },
     "execution_count": 3,
     "metadata": {},
     "output_type": "execute_result"
    }
   ],
   "source": [
    "# check dataframe\n",
    "pinfo_df.head()"
   ]
  },
  {
   "cell_type": "code",
   "execution_count": 4,
   "metadata": {},
   "outputs": [
    {
     "data": {
      "text/html": [
       "<div>\n",
       "<style scoped>\n",
       "    .dataframe tbody tr th:only-of-type {\n",
       "        vertical-align: middle;\n",
       "    }\n",
       "\n",
       "    .dataframe tbody tr th {\n",
       "        vertical-align: top;\n",
       "    }\n",
       "\n",
       "    .dataframe thead th {\n",
       "        text-align: right;\n",
       "    }\n",
       "</style>\n",
       "<table border=\"1\" class=\"dataframe\">\n",
       "  <thead>\n",
       "    <tr style=\"text-align: right;\">\n",
       "      <th></th>\n",
       "      <th>date</th>\n",
       "      <th>month</th>\n",
       "      <th>city_code</th>\n",
       "      <th>city_nm</th>\n",
       "      <th>category</th>\n",
       "      <th>induty_nm</th>\n",
       "      <th>sales_count</th>\n",
       "      <th>sales</th>\n",
       "    </tr>\n",
       "  </thead>\n",
       "  <tbody>\n",
       "    <tr>\n",
       "      <th>0</th>\n",
       "      <td>2020-01-04</td>\n",
       "      <td>1</td>\n",
       "      <td>11740</td>\n",
       "      <td>강동구</td>\n",
       "      <td>병원</td>\n",
       "      <td>약국</td>\n",
       "      <td>463</td>\n",
       "      <td>5843230</td>\n",
       "    </tr>\n",
       "    <tr>\n",
       "      <th>1</th>\n",
       "      <td>2020-01-04</td>\n",
       "      <td>1</td>\n",
       "      <td>11740</td>\n",
       "      <td>강동구</td>\n",
       "      <td>병원</td>\n",
       "      <td>치과의원</td>\n",
       "      <td>33</td>\n",
       "      <td>7835550</td>\n",
       "    </tr>\n",
       "    <tr>\n",
       "      <th>2</th>\n",
       "      <td>2020-01-04</td>\n",
       "      <td>1</td>\n",
       "      <td>11740</td>\n",
       "      <td>강동구</td>\n",
       "      <td>병원</td>\n",
       "      <td>한의원</td>\n",
       "      <td>53</td>\n",
       "      <td>4589800</td>\n",
       "    </tr>\n",
       "    <tr>\n",
       "      <th>3</th>\n",
       "      <td>2020-01-04</td>\n",
       "      <td>1</td>\n",
       "      <td>11740</td>\n",
       "      <td>강동구</td>\n",
       "      <td>병원</td>\n",
       "      <td>의원</td>\n",
       "      <td>339</td>\n",
       "      <td>9267240</td>\n",
       "    </tr>\n",
       "    <tr>\n",
       "      <th>4</th>\n",
       "      <td>2020-01-04</td>\n",
       "      <td>1</td>\n",
       "      <td>11740</td>\n",
       "      <td>강동구</td>\n",
       "      <td>차량</td>\n",
       "      <td>자동차정비</td>\n",
       "      <td>19</td>\n",
       "      <td>4441000</td>\n",
       "    </tr>\n",
       "  </tbody>\n",
       "</table>\n",
       "</div>"
      ],
      "text/plain": [
       "         date  month  city_code city_nm category induty_nm  sales_count  \\\n",
       "0  2020-01-04      1      11740     강동구       병원        약국          463   \n",
       "1  2020-01-04      1      11740     강동구       병원      치과의원           33   \n",
       "2  2020-01-04      1      11740     강동구       병원       한의원           53   \n",
       "3  2020-01-04      1      11740     강동구       병원        의원          339   \n",
       "4  2020-01-04      1      11740     강동구       차량     자동차정비           19   \n",
       "\n",
       "     sales  \n",
       "0  5843230  \n",
       "1  7835550  \n",
       "2  4589800  \n",
       "3  9267240  \n",
       "4  4441000  "
      ]
     },
     "execution_count": 4,
     "metadata": {},
     "output_type": "execute_result"
    }
   ],
   "source": [
    "# check dataframe\n",
    "card_df.head()"
   ]
  },
  {
   "cell_type": "code",
   "execution_count": 5,
   "metadata": {},
   "outputs": [],
   "source": [
    "# group patient infromation dataframe\n",
    "groups = [pinfo_df['confirmed_date'], pinfo_df['city_nm']]\n",
    "confirmed = pinfo_df['confirmed'].groupby(groups).sum()\n",
    "confirmed = pd.DataFrame(confirmed)\n",
    "confirmed = confirmed.reset_index()\n",
    "confirmed = confirmed.rename(columns={'confirmed_date':'date'})"
   ]
  },
  {
   "cell_type": "code",
   "execution_count": 6,
   "metadata": {},
   "outputs": [],
   "source": [
    "# group card sales dataframe\n",
    "groups = [card_df['date'], card_df['city_nm']]\n",
    "sales = card_df['sales'].groupby(groups).sum()\n",
    "sales = pd.DataFrame(sales)\n",
    "\n",
    "sales_count = card_df['sales_count'].groupby(groups).sum()\n",
    "sales_count = pd.DataFrame(sales_count)\n",
    "\n",
    "card = sales.join(sales_count)\n",
    "card = card.reset_index()"
   ]
  },
  {
   "cell_type": "code",
   "execution_count": 7,
   "metadata": {},
   "outputs": [],
   "source": [
    "# merge dataframe\n",
    "merge_df = pd.merge(card, confirmed, on=['date', 'city_nm'])"
   ]
  },
  {
   "cell_type": "markdown",
   "metadata": {},
   "source": [
    "`pd.merge()` : `on` 공통 열을 기준으로 데이터프레임 병합"
   ]
  },
  {
   "cell_type": "code",
   "execution_count": 8,
   "metadata": {},
   "outputs": [
    {
     "name": "stdout",
     "output_type": "stream",
     "text": [
      "confirmed 시작일: 2020-01-23\n",
      "confirmed 종료일: 2020-06-29\n",
      "confirmed 길이: 759\n",
      "\n",
      "card 시작일: 2020-01-04\n",
      "card 종료일: 2020-06-14\n",
      "card 길이: 3875\n",
      "\n",
      "merge 시작일: 2020-01-23\n",
      "merge 종료일: 2020-06-14\n",
      "merge 길이: 652\n"
     ]
    }
   ],
   "source": [
    "# check length of dataframe\n",
    "print('confirmed 시작일:', confirmed['date'].min())\n",
    "print('confirmed 종료일:', confirmed['date'].max())\n",
    "print('confirmed 길이:', len(confirmed))\n",
    "print()\n",
    "print('card 시작일:', card['date'].min())\n",
    "print('card 종료일:', card['date'].max())\n",
    "print('card 길이:', len(card))\n",
    "print()\n",
    "print('merge 시작일:', merge_df['date'].min())\n",
    "print('merge 종료일:', merge_df['date'].max())\n",
    "print('merge 길이:', len(merge_df))"
   ]
  },
  {
   "cell_type": "code",
   "execution_count": 9,
   "metadata": {},
   "outputs": [],
   "source": [
    "# set index\n",
    "merge_df = merge_df.set_index('date')"
   ]
  },
  {
   "cell_type": "code",
   "execution_count": 10,
   "metadata": {},
   "outputs": [
    {
     "data": {
      "text/html": [
       "<div>\n",
       "<style scoped>\n",
       "    .dataframe tbody tr th:only-of-type {\n",
       "        vertical-align: middle;\n",
       "    }\n",
       "\n",
       "    .dataframe tbody tr th {\n",
       "        vertical-align: top;\n",
       "    }\n",
       "\n",
       "    .dataframe thead th {\n",
       "        text-align: right;\n",
       "    }\n",
       "</style>\n",
       "<table border=\"1\" class=\"dataframe\">\n",
       "  <thead>\n",
       "    <tr style=\"text-align: right;\">\n",
       "      <th></th>\n",
       "      <th>city_nm</th>\n",
       "      <th>sales</th>\n",
       "      <th>sales_count</th>\n",
       "      <th>confirmed</th>\n",
       "    </tr>\n",
       "    <tr>\n",
       "      <th>date</th>\n",
       "      <th></th>\n",
       "      <th></th>\n",
       "      <th></th>\n",
       "      <th></th>\n",
       "    </tr>\n",
       "  </thead>\n",
       "  <tbody>\n",
       "    <tr>\n",
       "      <th>2020-01-23</th>\n",
       "      <td>강서구</td>\n",
       "      <td>12938184557</td>\n",
       "      <td>196724</td>\n",
       "      <td>1</td>\n",
       "    </tr>\n",
       "    <tr>\n",
       "      <th>2020-01-30</th>\n",
       "      <td>마포구</td>\n",
       "      <td>18707460485</td>\n",
       "      <td>511368</td>\n",
       "      <td>1</td>\n",
       "    </tr>\n",
       "    <tr>\n",
       "      <th>2020-01-30</th>\n",
       "      <td>종로구</td>\n",
       "      <td>13949766077</td>\n",
       "      <td>189029</td>\n",
       "      <td>1</td>\n",
       "    </tr>\n",
       "    <tr>\n",
       "      <th>2020-01-30</th>\n",
       "      <td>중랑구</td>\n",
       "      <td>1723337781</td>\n",
       "      <td>63246</td>\n",
       "      <td>1</td>\n",
       "    </tr>\n",
       "    <tr>\n",
       "      <th>2020-01-31</th>\n",
       "      <td>성북구</td>\n",
       "      <td>1844562764</td>\n",
       "      <td>74844</td>\n",
       "      <td>1</td>\n",
       "    </tr>\n",
       "  </tbody>\n",
       "</table>\n",
       "</div>"
      ],
      "text/plain": [
       "           city_nm        sales  sales_count  confirmed\n",
       "date                                                   \n",
       "2020-01-23     강서구  12938184557       196724          1\n",
       "2020-01-30     마포구  18707460485       511368          1\n",
       "2020-01-30     종로구  13949766077       189029          1\n",
       "2020-01-30     중랑구   1723337781        63246          1\n",
       "2020-01-31     성북구   1844562764        74844          1"
      ]
     },
     "execution_count": 10,
     "metadata": {},
     "output_type": "execute_result"
    }
   ],
   "source": [
    "# check dataframe\n",
    "merge_df.head()\n",
    "# merge_df.tail()"
   ]
  },
  {
   "cell_type": "code",
   "execution_count": 11,
   "metadata": {},
   "outputs": [
    {
     "data": {
      "text/html": [
       "<div>\n",
       "<style scoped>\n",
       "    .dataframe tbody tr th:only-of-type {\n",
       "        vertical-align: middle;\n",
       "    }\n",
       "\n",
       "    .dataframe tbody tr th {\n",
       "        vertical-align: top;\n",
       "    }\n",
       "\n",
       "    .dataframe thead th {\n",
       "        text-align: right;\n",
       "    }\n",
       "</style>\n",
       "<table border=\"1\" class=\"dataframe\">\n",
       "  <thead>\n",
       "    <tr style=\"text-align: right;\">\n",
       "      <th></th>\n",
       "      <th>sales</th>\n",
       "      <th>sales_count</th>\n",
       "      <th>confirmed</th>\n",
       "    </tr>\n",
       "  </thead>\n",
       "  <tbody>\n",
       "    <tr>\n",
       "      <th>count</th>\n",
       "      <td>6.520000e+02</td>\n",
       "      <td>6.520000e+02</td>\n",
       "      <td>652.000000</td>\n",
       "    </tr>\n",
       "    <tr>\n",
       "      <th>mean</th>\n",
       "      <td>6.555286e+09</td>\n",
       "      <td>1.968122e+05</td>\n",
       "      <td>1.613497</td>\n",
       "    </tr>\n",
       "    <tr>\n",
       "      <th>std</th>\n",
       "      <td>1.019199e+10</td>\n",
       "      <td>3.071721e+05</td>\n",
       "      <td>1.244713</td>\n",
       "    </tr>\n",
       "    <tr>\n",
       "      <th>min</th>\n",
       "      <td>5.813526e+08</td>\n",
       "      <td>2.765500e+04</td>\n",
       "      <td>1.000000</td>\n",
       "    </tr>\n",
       "    <tr>\n",
       "      <th>25%</th>\n",
       "      <td>1.948648e+09</td>\n",
       "      <td>8.185075e+04</td>\n",
       "      <td>1.000000</td>\n",
       "    </tr>\n",
       "    <tr>\n",
       "      <th>50%</th>\n",
       "      <td>2.825033e+09</td>\n",
       "      <td>1.163620e+05</td>\n",
       "      <td>1.000000</td>\n",
       "    </tr>\n",
       "    <tr>\n",
       "      <th>75%</th>\n",
       "      <td>6.732432e+09</td>\n",
       "      <td>1.852855e+05</td>\n",
       "      <td>2.000000</td>\n",
       "    </tr>\n",
       "    <tr>\n",
       "      <th>max</th>\n",
       "      <td>1.273518e+11</td>\n",
       "      <td>5.001972e+06</td>\n",
       "      <td>12.000000</td>\n",
       "    </tr>\n",
       "  </tbody>\n",
       "</table>\n",
       "</div>"
      ],
      "text/plain": [
       "              sales   sales_count   confirmed\n",
       "count  6.520000e+02  6.520000e+02  652.000000\n",
       "mean   6.555286e+09  1.968122e+05    1.613497\n",
       "std    1.019199e+10  3.071721e+05    1.244713\n",
       "min    5.813526e+08  2.765500e+04    1.000000\n",
       "25%    1.948648e+09  8.185075e+04    1.000000\n",
       "50%    2.825033e+09  1.163620e+05    1.000000\n",
       "75%    6.732432e+09  1.852855e+05    2.000000\n",
       "max    1.273518e+11  5.001972e+06   12.000000"
      ]
     },
     "execution_count": 11,
     "metadata": {},
     "output_type": "execute_result"
    }
   ],
   "source": [
    "# check statistics\n",
    "merge_df.describe()"
   ]
  },
  {
   "cell_type": "code",
   "execution_count": 12,
   "metadata": {},
   "outputs": [],
   "source": [
    "# normalization\n",
    "# it is inappropriate to create dummy variables, since there is too many cities\n",
    "nr = Normalizer(copy=False)\n",
    "\n",
    "X = merge_df.drop(columns=['sales', 'city_nm'])\n",
    "X = nr.fit_transform(X)\n",
    "y = merge_df['sales']\n",
    "\n",
    "# data partition\n",
    "train_X, valid_X, train_y, valid_y = train_test_split(X, y, test_size=0.3, random_state=123)"
   ]
  },
  {
   "cell_type": "markdown",
   "metadata": {},
   "source": [
    "## Baseline"
   ]
  },
  {
   "cell_type": "code",
   "execution_count": 13,
   "metadata": {},
   "outputs": [],
   "source": [
    "def evaluate(model):\n",
    "    # returns R2 score and RMSE of validation set\n",
    "    from sklearn.metrics import r2_score, mean_squared_error\n",
    "    from math import sqrt\n",
    "    \n",
    "    model.fit(train_X, train_y)\n",
    "    prediction = model.predict(valid_X)\n",
    "    \n",
    "    R2 = np.mean(r2_score(valid_y, prediction))\n",
    "    RMSE = sqrt(mean_squared_error(valid_y, prediction))\n",
    "    \n",
    "    print('R2 Score = %.2f'%R2)\n",
    "    print('RMSE = %.2f'%RMSE)\n",
    "    return r2_score, RMSE"
   ]
  },
  {
   "cell_type": "code",
   "execution_count": 14,
   "metadata": {},
   "outputs": [
    {
     "name": "stdout",
     "output_type": "stream",
     "text": [
      "R2 Score = -18.83\n",
      "RMSE = 38180212266.43\n"
     ]
    }
   ],
   "source": [
    "# linear regression\n",
    "# train\n",
    "lr = LinearRegression()\n",
    "lr.fit(train_X, train_y)\n",
    "\n",
    "# evaluate\n",
    "lr_pred = lr.predict(valid_X)\n",
    "lr_score = evaluate(lr)"
   ]
  },
  {
   "cell_type": "code",
   "execution_count": 15,
   "metadata": {},
   "outputs": [
    {
     "name": "stdout",
     "output_type": "stream",
     "text": [
      "R2 Score = 0.99\n",
      "RMSE = 703118066.95\n"
     ]
    }
   ],
   "source": [
    "# support vector machine\n",
    "# train\n",
    "svc = SVC()\n",
    "svc.fit(train_X, train_y)\n",
    "\n",
    "# evaluate\n",
    "svc_pred = svc.predict(valid_X)\n",
    "svc_score = evaluate(svc)"
   ]
  },
  {
   "cell_type": "code",
   "execution_count": 16,
   "metadata": {},
   "outputs": [
    {
     "name": "stdout",
     "output_type": "stream",
     "text": [
      "R2 Score = 0.46\n",
      "RMSE = 6320705858.65\n"
     ]
    }
   ],
   "source": [
    "# regression tree\n",
    "# train\n",
    "rt = DecisionTreeRegressor()\n",
    "rt.fit(train_X, train_y)\n",
    "\n",
    "# evaluate\n",
    "rt_pred = rt.predict(valid_X)\n",
    "rt_score = evaluate(rt)"
   ]
  },
  {
   "cell_type": "code",
   "execution_count": 17,
   "metadata": {},
   "outputs": [
    {
     "name": "stdout",
     "output_type": "stream",
     "text": [
      "R2 Score = 0.50\n",
      "RMSE = 6091902021.94\n"
     ]
    }
   ],
   "source": [
    "# random forest\n",
    "# train\n",
    "rf = RandomForestRegressor()\n",
    "rf.fit(train_X, train_y)\n",
    "\n",
    "# evaluate\n",
    "rf_pred = rf.predict(valid_X)\n",
    "rf_score = evaluate(rf)"
   ]
  },
  {
   "cell_type": "code",
   "execution_count": 19,
   "metadata": {},
   "outputs": [],
   "source": [
    "# save dataframe\n",
    "merge_df.to_csv(output_DIR+'/merge_df.csv', index=False, encoding='cp949')"
   ]
  },
  {
   "cell_type": "markdown",
   "metadata": {},
   "source": [
    "`encoding='cp949'`\n",
    "- python에서는 `utf-8`을 사용하지만 microsoft fat 파일시스템 계열은 'cp949' 사용\n",
    "- 즉, 엑셀로 열어봤을 때 한글을 깨지지 않게 하기 위함"
   ]
  }
 ],
 "metadata": {
  "kernelspec": {
   "display_name": "Python 3.8.5 ('base')",
   "language": "python",
   "name": "python3"
  },
  "language_info": {
   "codemirror_mode": {
    "name": "ipython",
    "version": 3
   },
   "file_extension": ".py",
   "mimetype": "text/x-python",
   "name": "python",
   "nbconvert_exporter": "python",
   "pygments_lexer": "ipython3",
   "version": "3.8.5 (default, Sep  4 2020, 02:22:02) \n[Clang 10.0.0 ]"
  },
  "orig_nbformat": 4,
  "vscode": {
   "interpreter": {
    "hash": "c1463ce6c1b2c0bae10e62eb95b5e7f949225ede39ad33f9ed9d1a9fa51f4000"
   }
  }
 },
 "nbformat": 4,
 "nbformat_minor": 2
}
